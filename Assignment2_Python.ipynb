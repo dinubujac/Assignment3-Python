{
 "cells": [
  {
   "cell_type": "code",
   "execution_count": 1,
   "metadata": {},
   "outputs": [
    {
     "name": "stdout",
     "output_type": "stream",
     "text": [
      "[1, 45, 3, -3, 27, 100]\n"
     ]
    }
   ],
   "source": [
    "#Basic 1\n",
    "def myfunction(list):\n",
    " output = []\n",
    " for x in list:\n",
    "  if x not in output:\n",
    "   output.append(x)\n",
    " return output\n",
    "list = [1,45,3,-3, 27, 100, 1, 100, 1, 100]\n",
    "output = myfunction(list)\n",
    "print(output)"
   ]
  },
  {
   "cell_type": "code",
   "execution_count": 2,
   "metadata": {},
   "outputs": [
    {
     "name": "stdout",
     "output_type": "stream",
     "text": [
      "False\n"
     ]
    }
   ],
   "source": [
    "#Basic 2\n",
    "def checknumber(list, x):\n",
    "  if x not in list:\n",
    "   return False\n",
    "  else:\n",
    "   return True\n",
    "list = [1,45,3,-3, 27, 100, 1, 100, 1, 100]\n",
    "number_to_search = 110\n",
    "output = checknumber(list, number_to_search)\n",
    "print(output)"
   ]
  },
  {
   "cell_type": "code",
   "execution_count": 3,
   "metadata": {},
   "outputs": [
    {
     "name": "stdout",
     "output_type": "stream",
     "text": [
      "Even numbers are:  [4, 16, 36, 64, 100]\n"
     ]
    }
   ],
   "source": [
    "#Basic 3\n",
    "list = [1, 4, 9, 16, 25, 36, 49, 64, 81, 100] \n",
    "even_numbers = [x for x in list if x % 2 == 0] \n",
    "print(\"Even numbers are: \", even_numbers) "
   ]
  },
  {
   "cell_type": "code",
   "execution_count": null,
   "metadata": {},
   "outputs": [],
   "source": []
  }
 ],
 "metadata": {
  "kernelspec": {
   "display_name": "Python 3",
   "language": "python",
   "name": "python3"
  },
  "language_info": {
   "codemirror_mode": {
    "name": "ipython",
    "version": 3
   },
   "file_extension": ".py",
   "mimetype": "text/x-python",
   "name": "python",
   "nbconvert_exporter": "python",
   "pygments_lexer": "ipython3",
   "version": "3.7.3"
  }
 },
 "nbformat": 4,
 "nbformat_minor": 2
}
